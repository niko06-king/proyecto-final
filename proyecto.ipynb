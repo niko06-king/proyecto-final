{
  "metadata": {
    "kernelspec": {
      "name": "python",
      "display_name": "Python (Pyodide)",
      "language": "python"
    },
    "language_info": {
      "codemirror_mode": {
        "name": "python",
        "version": 3
      },
      "file_extension": ".py",
      "mimetype": "text/x-python",
      "name": "python",
      "nbconvert_exporter": "python",
      "pygments_lexer": "ipython3",
      "version": "3.8"
    }
  },
  "nbformat_minor": 4,
  "nbformat": 4,
  "cells": [
    {
      "cell_type": "code",
      "source": "\nimport pandas as pd\nimport matplotlib.pyplot as plt\nimport seaborn as sns\nfrom sklearn.datasets import load_boston\n\n# Configuracion de graficos\nplt.style.use('seaborn')\nsns.set_palette(\"husl\")\n\n#  Cargar los datos\nboston = load_boston()\ndatos = pd.DataFrame(boston.data, columns=boston.feature_names)\ndatos['VALOR_CASA'] = boston.target  # Precio de la vivienda\n\n#  Explorar los datos\nprint(\"\\nPrimeras filas:\")\nprint(datos.head())\n\nprint(\"\\nResumen estadístico:\")\nprint(datos.describe())\n\n# Gráficos importantes\nplt.figure(figsize=(10, 6))\nsns.histplot(datos['VALOR_CASA'], bins=30, kde=True)\nplt.title('Distribución de precios de viviendas')\nplt.xlabel('Precio (en miles $)')\nplt.ylabel('Cantidad')\nplt.show()\n\n# Relación de variables\nvariables = ['RM', 'LSTAT', 'PTRATIO']\nfor var in variables:\n    plt.figure(figsize=(8, 5))\n    sns.scatterplot(x=datos[var], y=datos['VALOR_CASA'])\n    plt.title(f'Relación entre {var} y el precio')\n    plt.show()\n\n# Correlación\ncorrelaciones = datos.corr()\nplt.figure(figsize=(10, 8))\nsns.heatmap(correlaciones[['VALOR_CASA']].sort_values('VALOR_CASA', ascending=False), \n            annot=True, cmap='coolwarm')\nplt.title('Correlación con el precio de viviendas')\nplt.show()\n\nprint(\"\\nHallazgos principales:\")\nprint(\"- A más habitaciones (RM), mayor precio de la vivienda\")\nprint(\"- En zonas con más población de bajos recursos (LSTAT), los precios bajan\")\nprint(\"- Donde hay más alumnos por profesor (PTRATIO), los precios son menores\")",
      "metadata": {
        "trusted": true
      },
      "outputs": [],
      "execution_count": null
    },
    {
      "cell_type": "code",
      "source": "",
      "metadata": {
        "trusted": true
      },
      "outputs": [],
      "execution_count": null
    },
    {
      "cell_type": "code",
      "source": "import pandas as pd\nimport matplotlib.pyplot as plt\nimport seaborn as sns\nimport numpy as np\n\n# Cargar dataset desde OpenML\nfrom sklearn.datasets import fetch_openml\nboston = fetch_openml(name=\"boston\", version=1, as_frame=True)\ndata = boston.frame\n\n\nsns.set(style=\"whitegrid\", palette=\"pastel\")\nplt.rcParams[\"figure.figsize\"] = (10, 6)\n\n# 1. Boxplot del valor medio de las viviendas\nplt.figure()\nsns.boxplot(y=data['MEDV'])\nplt.title('Distribución del valor medio de las viviendas')\nplt.ylabel('Valor medio (en miles de dólares)')\nplt.show()\nprint(\"Comentario 1: La mayoría de viviendas se ubica entre 20k y 25k, aunque hay algunas mucho más caras.\")\n\n# 2. Frecuencia de propiedades\nplt.figure()\ndata['CHAS'].value_counts().sort_index().plot(kind='bar')\nplt.title('¿La propiedad está junto al río Charles?')\nplt.xlabel('0 = No | 1 = Sí')\nplt.ylabel('Cantidad de propiedades')\nplt.xticks(rotation=0)\nplt.show()\nprint(\"Comentario 2: Muy pocas viviendas están cerca del río Charles, la mayoría no lo está.\")\n\n# 3. Boxplot del valor de viviendas por antigüedad \ndata['GRUPO_EDAD'] = pd.cut(data['AGE'], bins=[0, 35, 70, 100], labels=['<=35 años', '35-70 años', '70+ años'])\n\nplt.figure()\nsns.boxplot(x='GRUPO_EDAD', y='MEDV', data=data)\nplt.title('Valor de viviendas según antigüedad del inmueble')\nplt.xlabel('Antigüedad del inmueble')\nplt.ylabel('Valor medio (en miles de dólares)')\nplt.show()\nprint(\"Comentario 3: Las casas más viejas (70+ años) suelen valer un poco menos.\")\n\n# 4. Dispersión entre contaminación y zona industrial\nplt.figure()\nsns.scatterplot(x='INDUS', y='NOX', data=data)\nplt.title('Contaminación vs zona industrial')\nplt.xlabel('Zona industrial (INDUS)')\nplt.ylabel('Contaminación (NOX)')\nplt.show()\nprint(\"Comentario 4: Se nota una relación directa: a más zona industrial, más contaminación.\")\n\n# 5. Histograma del ratio alumno-profesor\nplt.figure()\nsns.histplot(data['PTRATIO'], bins=15, kde=True)\nplt.title('Distribución del ratio alumno-profesor')\nplt.xlabel('Alumnos por profesor')\nplt.ylabel('Frecuencia')\nplt.show()\nprint(\"Comentario 5: La mayoría de ciudades tienen entre 18 y 20 alumnos por profesor.\")\n",
      "metadata": {
        "trusted": true
      },
      "outputs": [],
      "execution_count": null
    },
    {
      "cell_type": "code",
      "source": "",
      "metadata": {
        "trusted": true
      },
      "outputs": [],
      "execution_count": null
    },
    {
      "cell_type": "code",
      "source": "",
      "metadata": {
        "trusted": true
      },
      "outputs": [],
      "execution_count": null
    },
    {
      "cell_type": "code",
      "source": "\nimport pandas as pd\nimport numpy as np\nimport matplotlib.pyplot as plt\nfrom scipy import stats\nimport statsmodels.api as sm\nfrom statsmodels.formula.api import ols\nfrom sklearn.datasets import fetch_openml\n\n# Cargar los datos \nboston = fetch_openml(name=\"boston\", version=1, as_frame=True)\ndf = boston.frame\n\n#  Prueba T: ¿Las casas cerca del río valen más?\ncasas_rio = df[df['CHAS'] == 1]['MEDV']\ncasas_no_rio = df[df['CHAS'] == 0]['MEDV']\n\nt_test = stats.ttest_ind(casas_rio, casas_no_rio, equal_var=False)\nprint(\"\\n1. Prueba T - Casas cerca del río vs no:\")\nprint(f\"Precio medio cerca río: ${casas_rio.mean():.2f}k\")\nprint(f\"Precio medio lejos del río: ${casas_no_rio.mean():.2f}k\")\nprint(f\"¿Son diferentes? p-value = {t_test.pvalue:.4f}\")\nprint(\"Conclusión: Sí, las casas cerca del río valen significativamente más\" if t_test.pvalue < 0.05 else \"Conclusión: No hay diferencia significativa\")\n\n# 2. ANOVA: ¿El precio varía con la antigüedad de la casa?\ndf['GRUPO_EDAD'] = pd.cut(df['AGE'], bins=[0, 35, 70, 100], labels=['Nuevas', 'Medianas', 'Viejas'])\n\nmodelo_anova = ols('MEDV ~ GRUPO_EDAD', data=df).fit()\nanova = sm.stats.anova_lm(modelo_anova)\nprint(\"\\n2. ANOVA - Precio por antigüedad:\")\nprint(anova)\nprint(\"Conclusión: Hay diferencias entre grupos\" if anova['PR(>F)'][0] < 0.05 else \"Conclusión: No hay diferencias\")\n\n# 3. Correlación: ¿Más zonas comerciales = más contaminación?\ncorr, p_val = stats.pearsonr(df['INDUS'], df['NOX'])\nprint(\"\\n3. Correlación NOX vs INDUS:\")\nprint(f\"Correlación: {corr:.2f} (p-value = {p_val:.4f})\")\nprint(\"Conclusión: Sí, hay relación positiva fuerte\" if p_val < 0.05 else \"Conclusión: No hay relación\")\n\n# 4. Regresión: ¿Afecta la distancia al trabajo al precio?\nX = sm.add_constant(df['DIS'])\nmodelo = sm.OLS(df['MEDV'], X).fit()\nprint(\"\\n4. Regresión - Distancia vs Precio:\")\nprint(f\"Por cada unidad de distancia, el precio cambia en ${modelo.params[1]:.2f}k\")\nprint(\"¿Es significativo? p-value =\", modelo.pvalues[1])\nprint(\"Conclusión: Sí, más distancia aumenta el precio\" if modelo.pvalues[1] < 0.05 else \"Conclusión: No afecta significativamente\")\n\n# Gráficos \nplt.figure(figsize=(15, 10))\n\nplt.subplot(2, 2, 1)\nplt.boxplot([casas_rio, casas_no_rio], labels=['Junto al río', 'No junto'])\nplt.title('Precio por cercanía al río')\n\nplt.subplot(2, 2, 2)\ndf.groupby('GRUPO_EDAD')['MEDV'].mean().plot(kind='bar')\nplt.title('Precio medio por antigüedad')\n\nplt.subplot(2, 2, 3)\nplt.scatter(df['INDUS'], df['NOX'])\nplt.title('Contaminación vs Zonas comerciales')\n\nplt.subplot(2, 2, 4)\nplt.scatter(df['DIS'], df['MEDV'])\nplt.title('Precio vs Distancia a trabajos')\n\nplt.tight_layout()\nplt.show()\n",
      "metadata": {
        "trusted": true
      },
      "outputs": [],
      "execution_count": null
    }
  ]
}